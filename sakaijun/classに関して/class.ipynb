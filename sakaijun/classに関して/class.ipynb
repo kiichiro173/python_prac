{
 "cells": [
  {
   "cell_type": "code",
   "execution_count": 13,
   "id": "5435bd52-4e11-4852-8eac-2d93762b4f72",
   "metadata": {},
   "outputs": [],
   "source": [
    "class Person(object):\n",
    "    def __init__(self,name):\n",
    "        # クラスの初期化（コンストラクタ）\n",
    "        \"\"\"\n",
    "        クラスがインスタンス化されたら一番最初にこれが自動的に実行される。\n",
    "        initに引数がある場合は、インスタンス化するときに引数として入れていなければエラーとなる。\n",
    "        例: Person(\"name\")としないとエラーが発生してしまう。\n",
    "        \"\"\"\n",
    "        self.name = name\n",
    "\n",
    "        \n",
    "    def say_something(self):\n",
    "        self.run()\n",
    "        \n",
    "    def run(self):\n",
    "        print(\"run\")\n",
    "    "
   ]
  },
  {
   "cell_type": "code",
   "execution_count": 14,
   "id": "8ed3d44c-de10-4d28-97fb-998b6e109a1f",
   "metadata": {},
   "outputs": [
    {
     "name": "stdout",
     "output_type": "stream",
     "text": [
      "run\n"
     ]
    }
   ],
   "source": [
    "person = Person(\"mike\")\n",
    "person.say_something()"
   ]
  },
  {
   "cell_type": "markdown",
   "id": "be279712-4e35-40b4-9aef-c6cfa2df1bad",
   "metadata": {},
   "source": [
    "# クラスの継承"
   ]
  },
  {
   "cell_type": "code",
   "execution_count": 17,
   "id": "016c9ab3-5c0d-41b9-b79b-e0dee2719852",
   "metadata": {},
   "outputs": [],
   "source": [
    "class Car(object):\n",
    "    def run(self):\n",
    "        print(\"run\")\n",
    "\n",
    "class ToyotaCar(Car):\n",
    "    def my_name(self):\n",
    "        print(\"this is toyota\")"
   ]
  },
  {
   "cell_type": "code",
   "execution_count": 18,
   "id": "0d016b63-1eb4-4cf8-bb6b-07674f2953dd",
   "metadata": {},
   "outputs": [
    {
     "name": "stdout",
     "output_type": "stream",
     "text": [
      "run\n"
     ]
    }
   ],
   "source": [
    "toyotacar = ToyotaCar()\n",
    "toyotacar.run()"
   ]
  },
  {
   "cell_type": "code",
   "execution_count": 19,
   "id": "ddc3fb30-c68a-49fe-82b7-72dcafb6b570",
   "metadata": {},
   "outputs": [
    {
     "name": "stdout",
     "output_type": "stream",
     "text": [
      "this is toyota\n"
     ]
    }
   ],
   "source": [
    "toyotacar.my_name()"
   ]
  },
  {
   "cell_type": "code",
   "execution_count": 21,
   "id": "4a186faa-443f-4386-b31d-870572cba603",
   "metadata": {},
   "outputs": [],
   "source": [
    "class Car(object):\n",
    "    def run(self):\n",
    "        print(\"run\")\n",
    "\n",
    "class ToyotaCar(Car):\n",
    "    def run(self):\n",
    "        # 上書きをおこなっている。\n",
    "        print(\"run first\")\n",
    "        \n",
    "    def my_name(self):\n",
    "        print(\"this is toyota\")"
   ]
  },
  {
   "cell_type": "code",
   "execution_count": 22,
   "id": "cff8125b-0479-43c6-a1c8-b42e70cd8ac2",
   "metadata": {},
   "outputs": [
    {
     "name": "stdout",
     "output_type": "stream",
     "text": [
      "run first\n"
     ]
    }
   ],
   "source": [
    "toyotacar = ToyotaCar()\n",
    "toyotacar.run()"
   ]
  },
  {
   "cell_type": "code",
   "execution_count": null,
   "id": "72689166-7b9e-4414-a5fe-5fdff9b3bd49",
   "metadata": {},
   "outputs": [],
   "source": []
  },
  {
   "cell_type": "code",
   "execution_count": 23,
   "id": "ef093801-0228-45db-bfbf-5b637e806bb2",
   "metadata": {},
   "outputs": [],
   "source": [
    "class Car(object):\n",
    "    def __init__(self,model=None):\n",
    "        self.model = model\n",
    "    def run(self):\n",
    "        print(\"run\")\n",
    "\n",
    "class ToyotaCar(Car):\n",
    "    def __init__(self):\n",
    "        super()\n",
    "    def run(self):\n",
    "        # 上書きをおこなっている。\n",
    "        print(\"run first\")\n",
    "        \n",
    "    def my_name(self):\n",
    "        print(\"this is toyota\")"
   ]
  },
  {
   "cell_type": "code",
   "execution_count": 24,
   "id": "1beb9829-4489-4e1f-a13b-cf4d0dd60de4",
   "metadata": {},
   "outputs": [],
   "source": [
    "toyotacar = ToyotaCar()"
   ]
  },
  {
   "cell_type": "code",
   "execution_count": 25,
   "id": "708de90a-b72f-4a28-bc62-e8941a1a0050",
   "metadata": {},
   "outputs": [
    {
     "name": "stdout",
     "output_type": "stream",
     "text": [
      "run first\n"
     ]
    }
   ],
   "source": [
    "toyotacar.run()"
   ]
  },
  {
   "cell_type": "code",
   "execution_count": null,
   "id": "c1349ae7-9ad0-481c-867b-9e36f1ac65b0",
   "metadata": {},
   "outputs": [],
   "source": []
  },
  {
   "cell_type": "code",
   "execution_count": 29,
   "id": "1d5fe1ad-8131-4d84-a984-c0815c52269c",
   "metadata": {},
   "outputs": [],
   "source": [
    "class Car(object):\n",
    "    def __init__(self,model=None):\n",
    "        self.model = model\n",
    "    def run(self):\n",
    "        print(\"run\")\n",
    "\n",
    "class ToyotaCar(Car):\n",
    "    def __init__(self,model):\n",
    "        # 親クラスのinitを実行する。\n",
    "        # superを使用することでわざわざ毎回親クラスのinitをここでも書かなくて良くなる。\n",
    "        super().__init__(model)\n",
    "        \n",
    "    def run(self):\n",
    "        # 上書きをおこなっている。\n",
    "        print(\"run first\")\n",
    "        \n",
    "    def my_name(self):\n",
    "        print(\"this is toyota\")"
   ]
  },
  {
   "cell_type": "code",
   "execution_count": 31,
   "id": "2558c770-0e6f-4804-8acb-66a1fd15e21d",
   "metadata": {},
   "outputs": [],
   "source": [
    "toyotacar = ToyotaCar(\"lexus\")"
   ]
  },
  {
   "cell_type": "code",
   "execution_count": 32,
   "id": "d69f2759-5b83-4acb-b30e-52580c9dc7ca",
   "metadata": {},
   "outputs": [
    {
     "name": "stdout",
     "output_type": "stream",
     "text": [
      "run first\n"
     ]
    }
   ],
   "source": [
    "toyotacar.run()"
   ]
  },
  {
   "cell_type": "markdown",
   "id": "ae8aae98-a1a8-4aa6-9c4d-f5f78a5fe08d",
   "metadata": {},
   "source": [
    "# プロパティーに関して"
   ]
  },
  {
   "cell_type": "code",
   "execution_count": 57,
   "id": "3c09b5e4-9938-4a40-a04a-c5f5e24a69bf",
   "metadata": {},
   "outputs": [],
   "source": [
    "class Car(object):\n",
    "    def __init__(self,model=None):\n",
    "        self.model = model\n",
    "    def run(self):\n",
    "        print(\"run\")\n",
    "\n",
    "class ToyotaCar(Car):\n",
    "    def __init__(self,model,enable_run=False,enable_run2=False):\n",
    "        # 親クラスのinitを実行する。\n",
    "        super().__init__(model)\n",
    "        self.enable_run = enable_run\n",
    "        self._enable_run2 = enable_run2\n",
    "        \n",
    "    @property\n",
    "    def enable_run2(self):\n",
    "        \"\"\"\n",
    "        プロパティーを使用すると、読み込みはできるけど、書き込みはできなくなる！\n",
    "        書き換えをできるようにするにはどうするのか？？\n",
    "        →setterを作成する。そうすることで書き換えも可能になる。\n",
    "        \"\"\"\n",
    "        return self._enable_run2\n",
    "    \n",
    "    @enable_run2.setter\n",
    "    def enable_run2(self,is_enable):\n",
    "        # これを作成すると変更することができる。\n",
    "        self._enable_run2 = is_enable\n",
    "    \n",
    "    \n",
    "    def run(self):\n",
    "        # 上書きをおこなっている。\n",
    "        print(\"run first\")\n",
    "        \n",
    "    def my_name(self):\n",
    "        print(\"this is toyota\")"
   ]
  },
  {
   "cell_type": "code",
   "execution_count": 58,
   "id": "40a6c033-8b11-4102-98e1-2a71fbce8f36",
   "metadata": {},
   "outputs": [],
   "source": [
    "toyota = ToyotaCar(\"lexus\", True , True)"
   ]
  },
  {
   "cell_type": "code",
   "execution_count": 59,
   "id": "a6924c17-b9cf-464a-bae8-d3cb17eacbe3",
   "metadata": {},
   "outputs": [
    {
     "data": {
      "text/plain": [
       "True"
      ]
     },
     "execution_count": 59,
     "metadata": {},
     "output_type": "execute_result"
    }
   ],
   "source": [
    "toyota.enable_run"
   ]
  },
  {
   "cell_type": "code",
   "execution_count": 60,
   "id": "44d055b8-d256-4b53-83af-8f111fb98a62",
   "metadata": {},
   "outputs": [
    {
     "data": {
      "text/plain": [
       "False"
      ]
     },
     "execution_count": 60,
     "metadata": {},
     "output_type": "execute_result"
    }
   ],
   "source": [
    "# 置き換えが可能\n",
    "toyota.enable_run = False\n",
    "toyota.enable_run"
   ]
  },
  {
   "cell_type": "code",
   "execution_count": 61,
   "id": "ab28b990-8fed-4fd7-831c-4fe5d5d65622",
   "metadata": {},
   "outputs": [
    {
     "data": {
      "text/plain": [
       "False"
      ]
     },
     "execution_count": 61,
     "metadata": {},
     "output_type": "execute_result"
    }
   ],
   "source": [
    "# 置き換えが可能\n",
    "toyota.enable_run2 = False\n",
    "toyota.enable_run2"
   ]
  },
  {
   "cell_type": "markdown",
   "id": "7f4bc335-4bf6-44a2-b02e-1cd6a4efd235",
   "metadata": {},
   "source": [
    "# クラス変数に関して"
   ]
  },
  {
   "cell_type": "code",
   "execution_count": 78,
   "id": "f5f8bbdc-542b-4c89-ae3f-126d911569ef",
   "metadata": {},
   "outputs": [],
   "source": [
    "class Person():\n",
    "    \"\"\"\n",
    "    クラス変数に関して\n",
    "    クラス変数は変更されることがないものを指定すると良い。\n",
    "    listなどの可変のものを指定してしまうとインスタンス化を別々でおこなったとしてもデータが引き継がれてしまうので注意が必要\n",
    "    \"\"\"\n",
    "    kind = \"human\"# クラス変数\n",
    "    add_list = []\n",
    "\n",
    "    def __init__(self, name):\n",
    "        self.name = name\n",
    "    \n",
    "    def add_list_word(self,word):\n",
    "        self.add_list.append(word)\n",
    "        print(self.add_list)"
   ]
  },
  {
   "cell_type": "code",
   "execution_count": 79,
   "id": "6a060758-9633-458d-ae9b-48528ec8775f",
   "metadata": {},
   "outputs": [],
   "source": [
    "a = Person(\"A\")"
   ]
  },
  {
   "cell_type": "code",
   "execution_count": 80,
   "id": "bd35675f-e788-467f-a41f-ddc0f3e058a3",
   "metadata": {},
   "outputs": [
    {
     "data": {
      "text/plain": [
       "'A'"
      ]
     },
     "execution_count": 80,
     "metadata": {},
     "output_type": "execute_result"
    }
   ],
   "source": [
    "a.name"
   ]
  },
  {
   "cell_type": "code",
   "execution_count": 81,
   "id": "1cc9bc62-7365-4982-9e22-b23867991ed6",
   "metadata": {},
   "outputs": [
    {
     "name": "stdout",
     "output_type": "stream",
     "text": [
      "['Aさん']\n"
     ]
    }
   ],
   "source": [
    "a.add_list_word(\"Aさん\")"
   ]
  },
  {
   "cell_type": "code",
   "execution_count": 83,
   "id": "d55fa1d1-13ed-4fd1-975b-6be29c7b084c",
   "metadata": {},
   "outputs": [],
   "source": [
    "b = Person(\"B\")"
   ]
  },
  {
   "cell_type": "code",
   "execution_count": 84,
   "id": "a359963a-65f3-4817-8643-de01166ca296",
   "metadata": {},
   "outputs": [
    {
     "name": "stdout",
     "output_type": "stream",
     "text": [
      "['Aさん', 'Bさん']\n"
     ]
    }
   ],
   "source": [
    "# こんな感じでリストだとデータが引き継がれてしまう。。。。\n",
    "b.add_list_word(\"Bさん\")"
   ]
  },
  {
   "cell_type": "markdown",
   "id": "7c2bc294-a12c-4a28-abdd-54e76faab493",
   "metadata": {},
   "source": [
    "# クラスメソッドに関して！"
   ]
  },
  {
   "cell_type": "code",
   "execution_count": 89,
   "id": "927e304b-3a26-43c7-b43f-1c5d006dbed5",
   "metadata": {},
   "outputs": [],
   "source": [
    "class Person():\n",
    "    kind = \"human\"# クラス変数\n",
    "\n",
    "    def __init__(self):\n",
    "        self.x = 100\n",
    "    \n",
    "    def your_kind(self):\n",
    "        print(self.kind)"
   ]
  },
  {
   "cell_type": "code",
   "execution_count": 90,
   "id": "4e35dbe0-3288-4138-b308-19412d416376",
   "metadata": {},
   "outputs": [],
   "source": [
    "a = Person()\n",
    "# aはインスタンス化したのでyour_kindメソッドを実行することができる。\n",
    "a.your_kind()"
   ]
  },
  {
   "cell_type": "code",
   "execution_count": 93,
   "id": "c6720d08-002a-424e-baa7-fe65bda321c8",
   "metadata": {},
   "outputs": [
    {
     "ename": "TypeError",
     "evalue": "your_kind() missing 1 required positional argument: 'self'",
     "output_type": "error",
     "traceback": [
      "\u001b[0;31m---------------------------------------------------------------------------\u001b[0m",
      "\u001b[0;31mTypeError\u001b[0m                                 Traceback (most recent call last)",
      "Input \u001b[0;32mIn [93]\u001b[0m, in \u001b[0;36m<cell line: 3>\u001b[0;34m()\u001b[0m\n\u001b[1;32m      1\u001b[0m b \u001b[38;5;241m=\u001b[39m Person\n\u001b[1;32m      2\u001b[0m \u001b[38;5;66;03m# aはインスタンス化したのでyour_kindメソッドを実行することができる。\u001b[39;00m\n\u001b[0;32m----> 3\u001b[0m \u001b[43mb\u001b[49m\u001b[38;5;241;43m.\u001b[39;49m\u001b[43myour_kind\u001b[49m\u001b[43m(\u001b[49m\u001b[43m)\u001b[49m\n",
      "\u001b[0;31mTypeError\u001b[0m: your_kind() missing 1 required positional argument: 'self'"
     ]
    }
   ],
   "source": [
    "b = Person\n",
    "# bはインスタンス化してないのでyour_kindメソッドを実行することができない。。。。\n",
    "b.your_kind()"
   ]
  },
  {
   "cell_type": "code",
   "execution_count": 94,
   "id": "48e4c32e-2764-4970-bfd9-a4293b66c68b",
   "metadata": {},
   "outputs": [],
   "source": [
    "class Person():\n",
    "    kind = \"human\"# クラス変数\n",
    "\n",
    "    def __init__(self):\n",
    "        self.x = 100\n",
    "    # クラスメソッドにすることでオブジェクトを作らなくても作成することができる。\n",
    "    @classmethod\n",
    "    def your_kind(cls):\n",
    "        print(cls.kind)"
   ]
  },
  {
   "cell_type": "code",
   "execution_count": 95,
   "id": "bf97cf0c-b8ec-4550-9968-9e2573ac0628",
   "metadata": {},
   "outputs": [
    {
     "name": "stdout",
     "output_type": "stream",
     "text": [
      "human\n"
     ]
    }
   ],
   "source": [
    "b = Person\n",
    "b.your_kind()"
   ]
  },
  {
   "cell_type": "code",
   "execution_count": 98,
   "id": "e4d6e79d-0641-4752-993b-d960d221ee6f",
   "metadata": {},
   "outputs": [],
   "source": [
    "class Person():\n",
    "    kind = \"human\"# クラス変数\n",
    "\n",
    "    def __init__(self):\n",
    "        self.x = 100\n",
    "    # staticmethodはselfがいらないので単に関数を記載しているみたいな感じ。\n",
    "    @staticmethod\n",
    "    def check():\n",
    "        print(\"ok\")"
   ]
  },
  {
   "cell_type": "code",
   "execution_count": 100,
   "id": "0fdab6ab-0512-442a-975a-7663c0bda979",
   "metadata": {},
   "outputs": [
    {
     "name": "stdout",
     "output_type": "stream",
     "text": [
      "ok\n"
     ]
    }
   ],
   "source": [
    "Person.check()"
   ]
  },
  {
   "cell_type": "code",
   "execution_count": null,
   "id": "9e0a4d22-25a1-467b-83c6-fc378dcc0b6a",
   "metadata": {},
   "outputs": [],
   "source": []
  }
 ],
 "metadata": {
  "kernelspec": {
   "display_name": "Python 3 (ipykernel)",
   "language": "python",
   "name": "python3"
  },
  "language_info": {
   "codemirror_mode": {
    "name": "ipython",
    "version": 3
   },
   "file_extension": ".py",
   "mimetype": "text/x-python",
   "name": "python",
   "nbconvert_exporter": "python",
   "pygments_lexer": "ipython3",
   "version": "3.9.12"
  }
 },
 "nbformat": 4,
 "nbformat_minor": 5
}
