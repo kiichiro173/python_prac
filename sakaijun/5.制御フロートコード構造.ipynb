{
 "cells": [
  {
   "cell_type": "code",
   "execution_count": 1,
   "id": "d4c61a2c-61ce-4e1b-8f48-48c6e51b9285",
   "metadata": {},
   "outputs": [],
   "source": [
    "s = \"aaaaaaaaaaaaaaaaaa\" + \"bbbbbbbbbbbbbbbbbbbbbbbb\""
   ]
  },
  {
   "cell_type": "code",
   "execution_count": 2,
   "id": "8f5a1860-138a-4cb9-b6de-a8e673c8459a",
   "metadata": {},
   "outputs": [
    {
     "name": "stdout",
     "output_type": "stream",
     "text": [
      "aaaaaaaaaaaaaaaaaabbbbbbbbbbbbbbbbbbbbbbbb\n"
     ]
    }
   ],
   "source": [
    "print(s)"
   ]
  },
  {
   "cell_type": "code",
   "execution_count": 5,
   "id": "d2c82fd4-c20c-4630-b55d-64e81c718bf2",
   "metadata": {},
   "outputs": [],
   "source": [
    "# 80文字以上の場合は改行すると良いらしい。\n",
    "s = \"aaaaaaaaaaaaaaaaaa\" \\\n",
    "    + \"bbbbbbbbbbbbbbbbbbbbbbbb\""
   ]
  },
  {
   "cell_type": "code",
   "execution_count": 7,
   "id": "a3d20707-c231-4314-ad76-026ca8e230e0",
   "metadata": {},
   "outputs": [
    {
     "name": "stdout",
     "output_type": "stream",
     "text": [
      "aaaaaaaaaaaaaaaaaabbbbbbbbbbbbbbbbbbbbbbbb\n"
     ]
    }
   ],
   "source": [
    "print(s)"
   ]
  },
  {
   "cell_type": "markdown",
   "id": "72032522-587c-4536-93b2-6123969ab53f",
   "metadata": {},
   "source": [
    "# if"
   ]
  },
  {
   "cell_type": "code",
   "execution_count": 9,
   "id": "98de777b-8fba-42f6-ad75-d1a1b1723424",
   "metadata": {},
   "outputs": [
    {
     "name": "stdout",
     "output_type": "stream",
     "text": [
      "positive\n"
     ]
    }
   ],
   "source": [
    "x = 10\n",
    "if x < 0:\n",
    "    print(\"negative\")\n",
    "elif x == 0:\n",
    "    print(\"zero\")\n",
    "else:\n",
    "    print(\"positive\")"
   ]
  },
  {
   "cell_type": "markdown",
   "id": "5074c334-db56-4d1b-84b7-67bb19d6a74a",
   "metadata": {},
   "source": [
    "# 比較演算子\n"
   ]
  },
  {
   "cell_type": "code",
   "execution_count": 10,
   "id": "a72a97df-19bd-42fd-a3bd-a25bec8f71fc",
   "metadata": {},
   "outputs": [],
   "source": [
    "a = 1\n",
    "b = 1"
   ]
  },
  {
   "cell_type": "code",
   "execution_count": 11,
   "id": "8ba2415f-a120-4294-90b6-3e75d1859289",
   "metadata": {},
   "outputs": [
    {
     "name": "stdout",
     "output_type": "stream",
     "text": [
      "True\n"
     ]
    }
   ],
   "source": [
    "print(a == b)"
   ]
  },
  {
   "cell_type": "code",
   "execution_count": 12,
   "id": "a83025ef-19e1-4389-a9dd-88a3699dbb63",
   "metadata": {},
   "outputs": [
    {
     "data": {
      "text/plain": [
       "False"
      ]
     },
     "execution_count": 12,
     "metadata": {},
     "output_type": "execute_result"
    }
   ],
   "source": [
    "a != b"
   ]
  },
  {
   "cell_type": "code",
   "execution_count": 13,
   "id": "e68f9519-378e-4342-a298-d8ee05e70a19",
   "metadata": {},
   "outputs": [
    {
     "data": {
      "text/plain": [
       "False"
      ]
     },
     "execution_count": 13,
     "metadata": {},
     "output_type": "execute_result"
    }
   ],
   "source": [
    "a < b"
   ]
  },
  {
   "cell_type": "code",
   "execution_count": 14,
   "id": "68ecf37e-b58a-4518-990c-73ec248d42ca",
   "metadata": {},
   "outputs": [
    {
     "data": {
      "text/plain": [
       "True"
      ]
     },
     "execution_count": 14,
     "metadata": {},
     "output_type": "execute_result"
    }
   ],
   "source": [
    "a > 0 and b > 0"
   ]
  },
  {
   "cell_type": "code",
   "execution_count": 15,
   "id": "5f31fce3-c7e7-4725-98a8-c5556794f80d",
   "metadata": {},
   "outputs": [
    {
     "name": "stdout",
     "output_type": "stream",
     "text": [
      "in\n"
     ]
    }
   ],
   "source": [
    "y = [1,2,3]\n",
    "x = 1\n",
    "if x in y :\n",
    "    print(\"in\")"
   ]
  },
  {
   "cell_type": "code",
   "execution_count": 16,
   "id": "c344feb8-0e34-4088-92b2-2d7a7a64cbd1",
   "metadata": {},
   "outputs": [
    {
     "name": "stdout",
     "output_type": "stream",
     "text": [
      "not in\n"
     ]
    }
   ],
   "source": [
    "if 100 not in y:\n",
    "    print(\"not in\")"
   ]
  },
  {
   "cell_type": "code",
   "execution_count": 19,
   "id": "3a7f3d98-d897-4b12-9bda-d75b7cf067e7",
   "metadata": {},
   "outputs": [
    {
     "name": "stdout",
     "output_type": "stream",
     "text": [
      "tyaunenn\n",
      "tyaunenn\n"
     ]
    }
   ],
   "source": [
    "a = 1\n",
    "b = 2\n",
    "# この書き方は読みにくいから良くない\n",
    "if not a == b :\n",
    "    print(\"tyaunenn\")\n",
    "# こっちの方がいい。\n",
    "if  a != b :\n",
    "    print(\"tyaunenn\")"
   ]
  },
  {
   "cell_type": "code",
   "execution_count": 20,
   "id": "e8f9bd30-b617-4fe2-bbc7-91c6b77d23d5",
   "metadata": {},
   "outputs": [
    {
     "name": "stdout",
     "output_type": "stream",
     "text": [
      "OK!\n"
     ]
    }
   ],
   "source": [
    "a = 100\n",
    "if a:\n",
    "    print(\"OK!\")\n",
    "else:\n",
    "    print(\"no\")"
   ]
  },
  {
   "cell_type": "code",
   "execution_count": 22,
   "id": "de87372d-5059-48f9-a6b9-8f53af63611c",
   "metadata": {},
   "outputs": [
    {
     "name": "stdout",
     "output_type": "stream",
     "text": [
      "no\n"
     ]
    }
   ],
   "source": [
    "# リストに値があるのか、文字列が空文字でないかどうかを確認するときに使用する。\n",
    "a = []\n",
    "if a:\n",
    "    print(\"OK!\")\n",
    "else:\n",
    "    print(\"no\")"
   ]
  },
  {
   "cell_type": "code",
   "execution_count": 23,
   "id": "8d0be54a-822b-488f-b0be-c3cb0836e357",
   "metadata": {},
   "outputs": [
    {
     "name": "stdout",
     "output_type": "stream",
     "text": [
      "no\n"
     ]
    }
   ],
   "source": [
    "# リストに値があるのか、文字列が空文字でないかどうかを確認するときに使用する。\n",
    "a = \"\"\n",
    "if a:\n",
    "    print(\"OK!\")\n",
    "else:\n",
    "    print(\"no\")"
   ]
  },
  {
   "cell_type": "code",
   "execution_count": 24,
   "id": "2327a857-23dd-4c1a-8c45-94901ee97b59",
   "metadata": {},
   "outputs": [
    {
     "name": "stdout",
     "output_type": "stream",
     "text": [
      "Help on NoneType object:\n",
      "\n",
      "class NoneType(object)\n",
      " |  Methods defined here:\n",
      " |  \n",
      " |  __bool__(self, /)\n",
      " |      True if self else False\n",
      " |  \n",
      " |  __repr__(self, /)\n",
      " |      Return repr(self).\n",
      " |  \n",
      " |  ----------------------------------------------------------------------\n",
      " |  Static methods defined here:\n",
      " |  \n",
      " |  __new__(*args, **kwargs) from builtins.type\n",
      " |      Create and return a new object.  See help(type) for accurate signature.\n",
      "\n",
      "None\n"
     ]
    }
   ],
   "source": [
    "a = None \n",
    "print(help(a))"
   ]
  },
  {
   "cell_type": "code",
   "execution_count": 25,
   "id": "e9918ee4-1c32-49ce-ae64-baa4e07e9ac5",
   "metadata": {},
   "outputs": [
    {
     "name": "stdout",
     "output_type": "stream",
     "text": [
      "True\n",
      "False\n"
     ]
    },
    {
     "name": "stderr",
     "output_type": "stream",
     "text": [
      "<>:2: SyntaxWarning: \"is\" with a literal. Did you mean \"==\"?\n",
      "<>:2: SyntaxWarning: \"is\" with a literal. Did you mean \"==\"?\n",
      "/tmp/ipykernel_21/3898697479.py:2: SyntaxWarning: \"is\" with a literal. Did you mean \"==\"?\n",
      "  print(1 is True)\n"
     ]
    }
   ],
   "source": [
    "# isはNoneであるかどうかを確認する時によく使用する。\n",
    "#  objectで一緒かどうかを確認している。\n",
    "print(1 == True)\n",
    "print(1 is True)"
   ]
  },
  {
   "cell_type": "code",
   "execution_count": 26,
   "id": "e8e5cb76-bc71-4945-9d69-50826d0b5798",
   "metadata": {},
   "outputs": [
    {
     "name": "stdout",
     "output_type": "stream",
     "text": [
      "not None\n"
     ]
    }
   ],
   "source": [
    "a = 1\n",
    "if a is not None:\n",
    "    print(\"not None\")\n",
    "else:\n",
    "    print(\"None\")"
   ]
  },
  {
   "cell_type": "code",
   "execution_count": 27,
   "id": "7baacba1-da42-4b8c-80dd-72934f4d07d8",
   "metadata": {},
   "outputs": [
    {
     "name": "stdout",
     "output_type": "stream",
     "text": [
      "0\n",
      "1\n",
      "2\n",
      "3\n",
      "4\n",
      "5\n",
      "6\n",
      "7\n",
      "8\n",
      "9\n"
     ]
    }
   ],
   "source": [
    "# 無限ループにならないように気をつける必要がある。\n",
    "count = 0\n",
    "while count < 10:\n",
    "    print(count)\n",
    "    count += 1"
   ]
  },
  {
   "cell_type": "code",
   "execution_count": 30,
   "id": "08049d07-9b46-4136-acad-f4ce6279e33d",
   "metadata": {},
   "outputs": [
    {
     "name": "stdin",
     "output_type": "stream",
     "text": [
      "enter: inami\n"
     ]
    },
    {
     "name": "stdout",
     "output_type": "stream",
     "text": [
      "2\n"
     ]
    },
    {
     "name": "stdin",
     "output_type": "stream",
     "text": [
      "enter: count\n"
     ]
    },
    {
     "name": "stdout",
     "output_type": "stream",
     "text": [
      "3\n"
     ]
    },
    {
     "name": "stdin",
     "output_type": "stream",
     "text": [
      "enter: break\n"
     ]
    }
   ],
   "source": [
    "count = 1\n",
    "while True:\n",
    "    word =input(\"enter:\")\n",
    "    if word == \"break\":\n",
    "        break\n",
    "    else:\n",
    "        count += 1\n",
    "        print(count)"
   ]
  },
  {
   "cell_type": "code",
   "execution_count": 33,
   "id": "073ae3fc-95b2-4186-b70b-1d360e36c3f1",
   "metadata": {},
   "outputs": [
    {
     "name": "stdout",
     "output_type": "stream",
     "text": [
      "apple\n",
      "orange\n",
      "grape\n",
      "finish\n"
     ]
    }
   ],
   "source": [
    "#for文\n",
    "#  for文のelseはループがbreakせずに実行を終わらせることができたらelse文も実行される。\n",
    "# そうでない場合は実行されない。\n",
    "y = [\"apple\" , \"orange\" , \"grape\"]\n",
    "for i in y:\n",
    "    #if i == \"orange\":\n",
    "        #break\n",
    "    print(i)\n",
    "else:\n",
    "    print(\"finish\")"
   ]
  },
  {
   "cell_type": "code",
   "execution_count": 34,
   "id": "c4a48274-4047-411c-8249-3d1ed17246a5",
   "metadata": {},
   "outputs": [
    {
     "name": "stdout",
     "output_type": "stream",
     "text": [
      "x\n",
      "y\n"
     ]
    }
   ],
   "source": [
    "d = {\"x\":100 , \"y\":200}\n",
    "for i in d:\n",
    "    print(i)"
   ]
  },
  {
   "cell_type": "code",
   "execution_count": 35,
   "id": "8eed4b7f-3094-47dd-9d9c-34a37938636d",
   "metadata": {},
   "outputs": [
    {
     "name": "stdout",
     "output_type": "stream",
     "text": [
      "x\n",
      "100\n",
      "\n",
      "y\n",
      "200\n",
      "\n"
     ]
    }
   ],
   "source": [
    "d = {\"x\":100 , \"y\":200}\n",
    "for i,j in d.items():\n",
    "    print(i)\n",
    "    print(j)\n",
    "    print()"
   ]
  },
  {
   "cell_type": "code",
   "execution_count": 36,
   "id": "2eea0eff-2f5a-416d-801a-794ae314aeeb",
   "metadata": {},
   "outputs": [],
   "source": [
    "# 関数の定義\n",
    "def say_something():\n",
    "    print(\"hi\")"
   ]
  },
  {
   "cell_type": "code",
   "execution_count": 37,
   "id": "b24ed4fc-3ea6-417b-8028-248265f6d3c8",
   "metadata": {},
   "outputs": [
    {
     "data": {
      "text/plain": [
       "<function __main__.say_something()>"
      ]
     },
     "execution_count": 37,
     "metadata": {},
     "output_type": "execute_result"
    }
   ],
   "source": [
    "# functiomのデータタイプが帰ってきている。\n",
    "say_something"
   ]
  },
  {
   "cell_type": "code",
   "execution_count": 38,
   "id": "45ef217e-2220-4075-9f54-f8f63e211a44",
   "metadata": {},
   "outputs": [
    {
     "name": "stdout",
     "output_type": "stream",
     "text": [
      "hi\n"
     ]
    }
   ],
   "source": [
    "say_something()"
   ]
  },
  {
   "cell_type": "code",
   "execution_count": 39,
   "id": "087366ce-cba1-460b-824c-b6a93f1777d7",
   "metadata": {},
   "outputs": [],
   "source": [
    "# 関数の定義\n",
    "def say_something():\n",
    "    s= \"hi\"\n",
    "    print(s)"
   ]
  },
  {
   "cell_type": "code",
   "execution_count": 41,
   "id": "18d84080-8789-47c6-a27a-54fcd8b9177c",
   "metadata": {},
   "outputs": [
    {
     "name": "stdout",
     "output_type": "stream",
     "text": [
      "hi\n"
     ]
    }
   ],
   "source": [
    "say_something()"
   ]
  },
  {
   "cell_type": "code",
   "execution_count": 42,
   "id": "2bb924eb-d11a-478b-bf2c-d19f9b1da776",
   "metadata": {},
   "outputs": [],
   "source": [
    "# 何度も使用する処理→関数を定義していくと良い。\n",
    "def luck(a, b):\n",
    "    print(a)\n",
    "    print(b)"
   ]
  },
  {
   "cell_type": "code",
   "execution_count": 43,
   "id": "b9257c4b-bf83-46a4-90bf-d9c55ca1bb0f",
   "metadata": {},
   "outputs": [
    {
     "name": "stdout",
     "output_type": "stream",
     "text": [
      "orange\n",
      "lemon\n"
     ]
    }
   ],
   "source": [
    "luck(\"orange\",\"lemon\")"
   ]
  },
  {
   "cell_type": "code",
   "execution_count": 46,
   "id": "b5085e08-4438-4863-a46e-72323b777d35",
   "metadata": {},
   "outputs": [
    {
     "name": "stdout",
     "output_type": "stream",
     "text": [
      "([1, 2, 3, 4, 5, 6, 7, 8],)\n",
      "([1, 2, 3, 4, 5, 6, 7, 8],)\n"
     ]
    }
   ],
   "source": [
    "def luck(*args):\n",
    "    print(args)\n",
    "    print(args)\n",
    "luck([1,2,3,4,5,6,7,8,])"
   ]
  },
  {
   "cell_type": "code",
   "execution_count": 47,
   "id": "f1cf7d10-9811-440b-bcaa-7932b991a9fc",
   "metadata": {},
   "outputs": [],
   "source": [
    "def doc_check(param1):\n",
    "    \"\"\"\n",
    "    this function is dock check function\n",
    "    \"\"\"\n",
    "    print(param1)\n",
    "    "
   ]
  },
  {
   "cell_type": "code",
   "execution_count": 50,
   "id": "707279a9-fcb8-492c-b949-ce4c6677074c",
   "metadata": {},
   "outputs": [
    {
     "name": "stdout",
     "output_type": "stream",
     "text": [
      "\n",
      "    this function is dock check function\n",
      "    \n"
     ]
    }
   ],
   "source": [
    "# docstringを確認することができる。\n",
    "print(doc_check.__doc__)"
   ]
  },
  {
   "cell_type": "code",
   "execution_count": 49,
   "id": "d761a986-e9ec-4dc4-875e-dba63f7d2915",
   "metadata": {},
   "outputs": [
    {
     "name": "stdout",
     "output_type": "stream",
     "text": [
      "Help on function doc_check in module __main__:\n",
      "\n",
      "doc_check(param1)\n",
      "    this function is dock check function\n",
      "\n"
     ]
    }
   ],
   "source": [
    "# これでも関数を確認することができる。\n",
    "help(doc_check)"
   ]
  },
  {
   "cell_type": "code",
   "execution_count": 51,
   "id": "0d03eaeb-2fd1-4598-b962-a016ebd81c20",
   "metadata": {},
   "outputs": [],
   "source": [
    "# 関数内関数\n",
    "# 関数内関数は関数の中でしか関数を使用しない場合、関数ない関数を使用する。\n",
    "def outer(a, b):\n",
    "    def plus(c , d):\n",
    "        return c + d\n",
    "    \n",
    "    print(plus(a,b))\n",
    "outer(1,2)"
   ]
  },
  {
   "cell_type": "code",
   "execution_count": 52,
   "id": "8ac3cc1d-ca9c-4feb-b556-6a8b92df8fb4",
   "metadata": {},
   "outputs": [
    {
     "name": "stdout",
     "output_type": "stream",
     "text": [
      "3\n"
     ]
    }
   ],
   "source": []
  },
  {
   "cell_type": "code",
   "execution_count": 53,
   "id": "be801748-7b21-49c9-972c-b887ceaaca09",
   "metadata": {},
   "outputs": [],
   "source": []
  },
  {
   "cell_type": "code",
   "execution_count": 57,
   "id": "9550f360-1184-4954-b21c-43c1129fc38b",
   "metadata": {},
   "outputs": [
    {
     "name": "stdout",
     "output_type": "stream",
     "text": [
      "3\n",
      "4\n",
      "5\n"
     ]
    }
   ],
   "source": [
    "# ジェネレータータプルじゃないから注意！\n",
    "g = (i for i in range(10))\n",
    "type(g)\n",
    "print(next(g))\n",
    "print(next(g))\n",
    "print(next(g))"
   ]
  },
  {
   "cell_type": "code",
   "execution_count": null,
   "id": "980e497b-32e2-4844-8b99-12c27799d20d",
   "metadata": {},
   "outputs": [],
   "source": [
    "print(next(g))"
   ]
  }
 ],
 "metadata": {
  "kernelspec": {
   "display_name": "Python 3 (ipykernel)",
   "language": "python",
   "name": "python3"
  },
  "language_info": {
   "codemirror_mode": {
    "name": "ipython",
    "version": 3
   },
   "file_extension": ".py",
   "mimetype": "text/x-python",
   "name": "python",
   "nbconvert_exporter": "python",
   "pygments_lexer": "ipython3",
   "version": "3.9.12"
  }
 },
 "nbformat": 4,
 "nbformat_minor": 5
}
