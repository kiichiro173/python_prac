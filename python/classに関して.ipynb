{
 "cells": [
  {
   "cell_type": "code",
   "execution_count": 16,
   "id": "8dbce7c3-ace5-4398-b861-f033309704d1",
   "metadata": {},
   "outputs": [],
   "source": [
    "class Person:\n",
    "    def __init__(self, name, nationality, age):\n",
    "        self.name = name\n",
    "        self.nationality = nationality\n",
    "        self.age = age\n",
    "\n",
    "    def __call__(self):\n",
    "        print(\"こんにちは、call関数です！\")\n",
    "    \n",
    "    def say_hello(self,name):\n",
    "        print(f\"こんにちは、{name}さん。私は{self.name}です。\")"
   ]
  },
  {
   "cell_type": "code",
   "execution_count": 17,
   "id": "a9d32ea8-0fb1-4434-b612-ea51fa231a0f",
   "metadata": {},
   "outputs": [],
   "source": [
    "# インスタンス化\n",
    "inami = Person(\"inami\",\"Japan\",26)"
   ]
  },
  {
   "cell_type": "code",
   "execution_count": 20,
   "id": "1a37db4b-1c27-496f-b2f9-5f84c60202ae",
   "metadata": {},
   "outputs": [
    {
     "data": {
      "text/plain": [
       "'inami'"
      ]
     },
     "execution_count": 20,
     "metadata": {},
     "output_type": "execute_result"
    }
   ],
   "source": [
    "inami.name"
   ]
  },
  {
   "cell_type": "code",
   "execution_count": 19,
   "id": "a9a4f5e9-b9bf-4db7-8c33-8ae529f443bb",
   "metadata": {},
   "outputs": [
    {
     "name": "stdout",
     "output_type": "stream",
     "text": [
      "こんにちは、tyoさん。私はinamiです。\n"
     ]
    }
   ],
   "source": [
    "inami.say_hello(\"tyo\")"
   ]
  },
  {
   "cell_type": "code",
   "execution_count": 21,
   "id": "eb571a54-a702-4025-8fe3-2409bef83752",
   "metadata": {},
   "outputs": [
    {
     "name": "stdout",
     "output_type": "stream",
     "text": [
      "こんにちは、call関数です！\n"
     ]
    }
   ],
   "source": [
    "inami()"
   ]
  },
  {
   "cell_type": "markdown",
   "id": "0c1b3aee-1ae1-4fb2-9702-e775ae0fcade",
   "metadata": {},
   "source": [
    "# 継承に関して"
   ]
  },
  {
   "cell_type": "code",
   "execution_count": 23,
   "id": "7a0050e2-4517-4381-a866-e31b4d52ad23",
   "metadata": {},
   "outputs": [],
   "source": [
    "class Saiya(Person):\n",
    "    \n",
    "    def __init__(self,name,nationality,age,strength):\n",
    "        super().__init__(name,nationality,age)\n",
    "        self.strength = strength"
   ]
  },
  {
   "cell_type": "code",
   "execution_count": 24,
   "id": "9e100c6e-8396-4dc5-a2de-6b829ccaff21",
   "metadata": {},
   "outputs": [],
   "source": [
    "goku = Saiya(\"悟空\",\"日本\",23 , 10000)"
   ]
  },
  {
   "cell_type": "code",
   "execution_count": 25,
   "id": "da9f5b96-2d91-483b-959a-6eeead20ace5",
   "metadata": {},
   "outputs": [
    {
     "data": {
      "text/plain": [
       "'悟空'"
      ]
     },
     "execution_count": 25,
     "metadata": {},
     "output_type": "execute_result"
    }
   ],
   "source": [
    "goku.name"
   ]
  },
  {
   "cell_type": "code",
   "execution_count": 26,
   "id": "60fb481f-e76b-4424-a2ee-ab7ea7720455",
   "metadata": {},
   "outputs": [
    {
     "data": {
      "text/plain": [
       "10000"
      ]
     },
     "execution_count": 26,
     "metadata": {},
     "output_type": "execute_result"
    }
   ],
   "source": [
    "goku.strength"
   ]
  },
  {
   "cell_type": "code",
   "execution_count": 27,
   "id": "ed0d1b6c-e373-447c-953a-9f0d6454b329",
   "metadata": {},
   "outputs": [
    {
     "name": "stdout",
     "output_type": "stream",
     "text": [
      "こんにちは、tyomoさん。私は悟空です。\n"
     ]
    }
   ],
   "source": [
    "goku.say_hello(\"tyomo\")"
   ]
  },
  {
   "cell_type": "code",
   "execution_count": null,
   "id": "1e4b7005-375f-477e-9d8a-b7b7a4e6c8e6",
   "metadata": {},
   "outputs": [],
   "source": []
  },
  {
   "cell_type": "code",
   "execution_count": null,
   "id": "b5f6a846-1f2e-43be-b8b0-127d51b7fbdd",
   "metadata": {},
   "outputs": [],
   "source": []
  },
  {
   "cell_type": "code",
   "execution_count": null,
   "id": "5a981c10-bbe7-4b60-a9ec-fedb58729daf",
   "metadata": {},
   "outputs": [],
   "source": []
  }
 ],
 "metadata": {
  "kernelspec": {
   "display_name": "Python 3 (ipykernel)",
   "language": "python",
   "name": "python3"
  },
  "language_info": {
   "codemirror_mode": {
    "name": "ipython",
    "version": 3
   },
   "file_extension": ".py",
   "mimetype": "text/x-python",
   "name": "python",
   "nbconvert_exporter": "python",
   "pygments_lexer": "ipython3",
   "version": "3.9.7"
  }
 },
 "nbformat": 4,
 "nbformat_minor": 5
}
