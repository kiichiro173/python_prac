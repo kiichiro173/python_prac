{
 "cells": [
  {
   "cell_type": "code",
   "execution_count": 1,
   "id": "131dca67-1bee-4bd7-997b-902b50550f3b",
   "metadata": {},
   "outputs": [
    {
     "name": "stdout",
     "output_type": "stream",
     "text": [
      "Requirement already satisfied: sqlalchemy in /opt/anaconda3/lib/python3.9/site-packages (1.4.22)\n",
      "Requirement already satisfied: greenlet!=0.4.17 in /opt/anaconda3/lib/python3.9/site-packages (from sqlalchemy) (1.1.1)\n",
      "\u001b[33mWARNING: Running pip as the 'root' user can result in broken permissions and conflicting behaviour with the system package manager. It is recommended to use a virtual environment instead: https://pip.pypa.io/warnings/venv\u001b[0m\u001b[33m\n",
      "\u001b[0m\u001b[33mWARNING: You are using pip version 22.0.3; however, version 22.0.4 is available.\n",
      "You should consider upgrading via the '/opt/anaconda3/bin/python -m pip install --upgrade pip' command.\u001b[0m\u001b[33m\n",
      "\u001b[0m"
     ]
    }
   ],
   "source": [
    "!pip install sqlalchemy\n"
   ]
  },
  {
   "cell_type": "code",
   "execution_count": 3,
   "id": "7575b124-8eea-451b-b9b4-54f0724f6164",
   "metadata": {},
   "outputs": [],
   "source": [
    "from sqlalchemy import create_engine\n",
    "from sqlalchemy.orm import scoped_session , sessionmaker\n",
    "from sqlalchemy.ext.declarative import declarative_base\n",
    "import os\n",
    "import pandas as pd"
   ]
  },
  {
   "cell_type": "code",
   "execution_count": 8,
   "id": "e8720048-9c06-4f4e-942b-d9658adf0e4e",
   "metadata": {},
   "outputs": [],
   "source": [
    "database_file = os.path.join(os.path.abspath(os.getcwd()),\"data.db\")"
   ]
  },
  {
   "cell_type": "code",
   "execution_count": 9,
   "id": "383d820f-b15e-4b4f-9b0f-ef6579d4d43c",
   "metadata": {},
   "outputs": [
    {
     "name": "stderr",
     "output_type": "stream",
     "text": [
      "/tmp/ipykernel_30/2676712197.py:2: SADeprecationWarning: The create_engine.convert_unicode parameter and corresponding dialect-level parameters are deprecated, and will be removed in a future release.  Modern DBAPIs support Python Unicode natively and this parameter is unnecessary.\n",
      "  engine = create_engine(\"sqlite:///\" + database_file,convert_unicode=True, echo=True)\n"
     ]
    }
   ],
   "source": [
    "# sqlite3の設定をしている。\n",
    "engine = create_engine(\"sqlite:///\" + database_file,convert_unicode=True, echo=True)"
   ]
  },
  {
   "cell_type": "code",
   "execution_count": null,
   "id": "16356b3a-d0e1-4be4-bfe3-f1410f442744",
   "metadata": {},
   "outputs": [],
   "source": [
    "db_session = scoped_session(\n",
    "    sessionmaker(\n",
    "        s"
   ]
  }
 ],
 "metadata": {
  "kernelspec": {
   "display_name": "Python 3 (ipykernel)",
   "language": "python",
   "name": "python3"
  },
  "language_info": {
   "codemirror_mode": {
    "name": "ipython",
    "version": 3
   },
   "file_extension": ".py",
   "mimetype": "text/x-python",
   "name": "python",
   "nbconvert_exporter": "python",
   "pygments_lexer": "ipython3",
   "version": "3.9.7"
  }
 },
 "nbformat": 4,
 "nbformat_minor": 5
}
